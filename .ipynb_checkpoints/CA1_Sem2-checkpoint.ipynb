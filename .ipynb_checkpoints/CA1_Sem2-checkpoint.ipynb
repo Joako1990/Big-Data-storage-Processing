{
 "cells": [
  {
   "cell_type": "code",
   "execution_count": null,
   "id": "1a534475",
   "metadata": {},
   "outputs": [],
   "source": [
    "# Import libraries\n",
    "\n",
    "import pandas as pd\n",
    "import numpy as np\n",
    "from numpy import mean\n",
    "import seaborn as sns\n",
    "import matplotlib.pyplot as plt\n",
    "import warnings\n",
    "warnings.filterwarnings('ignore')\n",
    "from sklearn import preprocessing"
   ]
  },
  {
   "cell_type": "code",
   "execution_count": null,
   "id": "68fac0de",
   "metadata": {},
   "outputs": [],
   "source": [
    "#Read dataset\n",
    "#df = pd.read_csv('https://data.cityofnewyork.us/api/views/h9gi-nx95/rows.csv?accessType=DOWNLOAD')\n",
    "df = pd.read_csv(r'C:\\Users\\tadeo\\Desktop\\CA1-Sem2\\Motor_Vehicle_Collisions_-_Crashes.csv')\n",
    "#df1 = pd.read_csv(r'C:\\Users\\tadeo\\Desktop\\CA1-Sem2\\Motor_Vehicle_Collisions_-_Crashes.csv')"
   ]
  },
  {
   "cell_type": "code",
   "execution_count": null,
   "id": "107ef7ed",
   "metadata": {},
   "outputs": [],
   "source": [
    "#Create a copy\n",
    "\n",
    "df_c = df\n",
    "\n",
    "# Check shape\n",
    "\n",
    "df.shape"
   ]
  },
  {
   "cell_type": "code",
   "execution_count": null,
   "id": "8fdc9149",
   "metadata": {},
   "outputs": [],
   "source": [
    "df.info()"
   ]
  },
  {
   "cell_type": "markdown",
   "id": "a18abb8f",
   "metadata": {},
   "source": [
    "Here there are a few things to do:\n",
    "\n",
    "    *We can see that CRASH DATE & CRASH TIME are both objects and not time series, so we'll convert them in such\n",
    "    *ZIP CODE is an object, so there must be some non-numerial data\n",
    "    *NUMBER OF PERSONES INJURED & NUMBER OF PERSONS KILLED ARE FLOATS, SO WE CONVERT THEM TO INT"
   ]
  },
  {
   "cell_type": "code",
   "execution_count": null,
   "id": "f4f643d1",
   "metadata": {},
   "outputs": [],
   "source": [
    "df['CRASH DATE'] = pd.to_datetime(df['CRASH DATE'], format='%m/%d/%Y')"
   ]
  },
  {
   "cell_type": "code",
   "execution_count": null,
   "id": "e4e05e90",
   "metadata": {},
   "outputs": [],
   "source": [
    "#df['CRASH TIME'] = pd.to_datetime(df['CRASH TIME'], format='%H:%M').dt.time"
   ]
  },
  {
   "cell_type": "code",
   "execution_count": null,
   "id": "561f8650",
   "metadata": {},
   "outputs": [],
   "source": [
    "df['ZIP CODE'] = pd.to_numeric(df['ZIP CODE'], errors='coerce')"
   ]
  },
  {
   "cell_type": "code",
   "execution_count": null,
   "id": "d227e9bd",
   "metadata": {},
   "outputs": [],
   "source": [
    "df.isnull().sum()"
   ]
  },
  {
   "cell_type": "markdown",
   "id": "cd237681",
   "metadata": {},
   "source": [
    "There are just too many NaN values and some irrelevant columns, so drop the irrelevant columns"
   ]
  },
  {
   "cell_type": "code",
   "execution_count": null,
   "id": "386d9b95",
   "metadata": {},
   "outputs": [],
   "source": [
    "# Drop unecessary columns & the ones with too many null values\n",
    "\n",
    "df.drop(columns = ['COLLISION_ID', 'VEHICLE TYPE CODE 3', 'VEHICLE TYPE CODE 4', \n",
    "                   'VEHICLE TYPE CODE 5', 'OFF STREET NAME', 'CONTRIBUTING FACTOR VEHICLE 3',\n",
    "                   'CONTRIBUTING FACTOR VEHICLE 4', 'CONTRIBUTING FACTOR VEHICLE 5', 'LATITUDE', \n",
    "                   'LONGITUDE', 'CROSS STREET NAME', 'CONTRIBUTING FACTOR VEHICLE 2', 'VEHICLE TYPE CODE 2',\n",
    "                   'LOCATION'],inplace = True)"
   ]
  },
  {
   "cell_type": "code",
   "execution_count": null,
   "id": "df3fa8dd",
   "metadata": {},
   "outputs": [],
   "source": [
    "# Drop dubplicate columns\n",
    "\n",
    "df.drop_duplicates(inplace = True)"
   ]
  },
  {
   "cell_type": "code",
   "execution_count": null,
   "id": "97e402d6",
   "metadata": {},
   "outputs": [],
   "source": [
    "# Drop null columns\n",
    "\n",
    "df.dropna(inplace = True)"
   ]
  },
  {
   "cell_type": "code",
   "execution_count": null,
   "id": "712772f2",
   "metadata": {},
   "outputs": [],
   "source": [
    "# Checl null cells\n",
    "\n",
    "df.isnull().sum()"
   ]
  },
  {
   "cell_type": "code",
   "execution_count": null,
   "id": "8302da53",
   "metadata": {},
   "outputs": [],
   "source": [
    "df.info()"
   ]
  },
  {
   "cell_type": "code",
   "execution_count": null,
   "id": "acf696f3",
   "metadata": {},
   "outputs": [],
   "source": [
    "# Check shape\n",
    "\n",
    "df.shape"
   ]
  },
  {
   "cell_type": "code",
   "execution_count": null,
   "id": "ebb88eeb",
   "metadata": {},
   "outputs": [],
   "source": [
    "# Standarize categorical columns\n",
    "\n",
    "df['CONTRIBUTING FACTOR VEHICLE 1']  = df['CONTRIBUTING FACTOR VEHICLE 1'].str.lower()\n",
    "df['BOROUGH'] = df['BOROUGH'].str.lower()\n",
    "df['ON STREET NAME'] = df['ON STREET NAME'].str.lower()\n",
    "df['VEHICLE TYPE CODE 1'] = df['VEHICLE TYPE CODE 1'].str.lower()"
   ]
  },
  {
   "cell_type": "code",
   "execution_count": null,
   "id": "03c5b77a",
   "metadata": {},
   "outputs": [],
   "source": [
    "# Convert ZIP CODE, NUMBER OR PERSONS INJURED AND NUMBER OF PERSONS KILLED to int and CRASH TIME into datetime stamp\n",
    "\n",
    "df['ZIP CODE'] = df['ZIP CODE'].astype(int)"
   ]
  },
  {
   "cell_type": "code",
   "execution_count": null,
   "id": "b39e5bc9",
   "metadata": {},
   "outputs": [],
   "source": [
    "df['NUMBER OF PERSONS INJURED'] = df['NUMBER OF PERSONS INJURED'].astype(int)"
   ]
  },
  {
   "cell_type": "code",
   "execution_count": null,
   "id": "e5bd00bd",
   "metadata": {},
   "outputs": [],
   "source": [
    "df['NUMBER OF PERSONS KILLED'] = df['NUMBER OF PERSONS KILLED'].astype(int)"
   ]
  },
  {
   "cell_type": "code",
   "execution_count": null,
   "id": "c525660b",
   "metadata": {},
   "outputs": [],
   "source": [
    "df"
   ]
  },
  {
   "cell_type": "code",
   "execution_count": null,
   "id": "2b4d6f60",
   "metadata": {},
   "outputs": [],
   "source": [
    "# Check again if there are any null values\n",
    "df.info()"
   ]
  },
  {
   "cell_type": "code",
   "execution_count": null,
   "id": "728119ea",
   "metadata": {},
   "outputs": [],
   "source": [
    "# Reset index\n",
    "\n",
    "df.reset_index(drop=True,inplace=True)"
   ]
  },
  {
   "cell_type": "code",
   "execution_count": null,
   "id": "01044be7",
   "metadata": {},
   "outputs": [],
   "source": [
    "df"
   ]
  },
  {
   "cell_type": "code",
   "execution_count": null,
   "id": "faa34849",
   "metadata": {},
   "outputs": [],
   "source": [
    "# Organise dataset by date and time\n",
    "\n",
    "df = df.sort_values(by=['CRASH DATE', 'CRASH TIME'])\n",
    "#df=df.sort_values(by=['CRASH DATE'])"
   ]
  },
  {
   "cell_type": "code",
   "execution_count": null,
   "id": "66d444c5",
   "metadata": {},
   "outputs": [],
   "source": [
    "df['NUMBER OF PERSONS INJURED'].nunique()"
   ]
  },
  {
   "cell_type": "code",
   "execution_count": null,
   "id": "bdadeb76",
   "metadata": {},
   "outputs": [],
   "source": [
    "fig, ax = plt.subplots(figsize=20,5)\n",
    "sns.lineplot(data=df, x='CRASH DATE', y='NUMBER OF PERSONS INJURED', hue = 'BOROUGH')\n",
    "plt.show()"
   ]
  },
  {
   "cell_type": "code",
   "execution_count": null,
   "id": "922d7078",
   "metadata": {},
   "outputs": [],
   "source": [
    "# Create encoder object \n",
    "\n",
    "#label_encoder = preprocessing.LabelEncoder()"
   ]
  },
  {
   "cell_type": "code",
   "execution_count": null,
   "id": "35bb1f96",
   "metadata": {},
   "outputs": [],
   "source": [
    "# Encode 'BOROUGH' column\n",
    "\n",
    "#df['BOROUGH'] = label_encoder.fit_transform(df['BOROUGH']) "
   ]
  },
  {
   "cell_type": "markdown",
   "id": "e653eaf9",
   "metadata": {},
   "source": [
    "Now we'll create different df for each zone"
   ]
  },
  {
   "cell_type": "code",
   "execution_count": null,
   "id": "b5578161",
   "metadata": {},
   "outputs": [],
   "source": [
    "df_brooklyn = df.loc[df['BOROUGH'] == 'brooklyn']"
   ]
  },
  {
   "cell_type": "code",
   "execution_count": null,
   "id": "bb37dd22",
   "metadata": {},
   "outputs": [],
   "source": [
    "df_bronx = df.loc[df['BOROUGH'] == 'bronx']"
   ]
  },
  {
   "cell_type": "code",
   "execution_count": null,
   "id": "fe07c687",
   "metadata": {},
   "outputs": [],
   "source": [
    "df_manhattan = df.loc[df['BOROUGH'] == 'manhattan']"
   ]
  },
  {
   "cell_type": "code",
   "execution_count": null,
   "id": "b05da5f8",
   "metadata": {},
   "outputs": [],
   "source": [
    "df_queens = df.loc[df['BOROUGH'] == 'queens']"
   ]
  },
  {
   "cell_type": "code",
   "execution_count": null,
   "id": "f6cbd48c",
   "metadata": {},
   "outputs": [],
   "source": [
    "df_staten_island= df.loc[df['BOROUGH'] == 'staten island']"
   ]
  },
  {
   "cell_type": "code",
   "execution_count": null,
   "id": "a83b1d8d",
   "metadata": {},
   "outputs": [],
   "source": [
    "#df_staten_island['CRASH TIME'].unique().sum()"
   ]
  },
  {
   "cell_type": "code",
   "execution_count": null,
   "id": "2d83c02c",
   "metadata": {},
   "outputs": [],
   "source": [
    "#df_bronx['Year'] = df_bronx['CRASH DATE'].dt.year"
   ]
  },
  {
   "cell_type": "code",
   "execution_count": null,
   "id": "84d99159",
   "metadata": {},
   "outputs": [],
   "source": [
    "df_bronx"
   ]
  },
  {
   "cell_type": "code",
   "execution_count": null,
   "id": "f2d25352",
   "metadata": {},
   "outputs": [],
   "source": [
    "fig, ax = plt.subplots(figsize=(12, 6))\n",
    "sns.lineplot(data=df_bronx, x='CRASH DATE', y='NUMBER OF PERSONS INJURED', ax=ax)\n",
    "\n",
    "# Set plot title and labels\n",
    "ax.set_ylim(bottom=0)\n",
    "plt.title('Number of Persons Injured Over Time')\n",
    "plt.xlabel('Crash Date')\n",
    "plt.ylabel('Number of Persons Injured')\n",
    "\n",
    "plt.show()"
   ]
  },
  {
   "cell_type": "code",
   "execution_count": null,
   "id": "8bb50933",
   "metadata": {
    "scrolled": true
   },
   "outputs": [],
   "source": [
    "fig, ax = plt.subplots(figsize=(20, 5))\n",
    "sns.lineplot(data=df_bronx, x='CRASH DATE', y='NUMBER OF PERSONS INJURED')\n",
    "#sns.lineplot(data=df_bronx[df_bronx['CRASH DATE'].dt.year == 2022], x='CRASH DATE', y='NUMBER OF PERSONS INJURED', ax=ax)\n",
    "#ax.set_ylim(0, 10)\n",
    "plt.show()"
   ]
  },
  {
   "cell_type": "code",
   "execution_count": null,
   "id": "dbe6613a",
   "metadata": {
    "scrolled": true
   },
   "outputs": [],
   "source": [
    "fig, ax = plt.subplots(figsize = (20,5))\n",
    "sns.lineplot(data=df_bronx[df_bronx['CRASH DATE'].dt.year == 2022], x='CRASH DATE', y='NUMBER OF PERSONS INJURED', ax=ax)\n",
    "plt.show()"
   ]
  },
  {
   "cell_type": "code",
   "execution_count": null,
   "id": "217ce2f7",
   "metadata": {
    "scrolled": false
   },
   "outputs": [],
   "source": [
    "sns.barplot(data = df_brooklyn, x = 'CRASH DATE', y = 'NUMBER OF PERSONS INJURED')"
   ]
  },
  {
   "cell_type": "code",
   "execution_count": null,
   "id": "f2381530",
   "metadata": {},
   "outputs": [],
   "source": [
    "df_bronx[df_bronx['NUMBER OF PERSONS INJURED'] == 10]"
   ]
  },
  {
   "cell_type": "code",
   "execution_count": null,
   "id": "52bf21a9",
   "metadata": {},
   "outputs": [],
   "source": [
    "df_brooklyn.iloc(df['CRASH DATE'] == 2012-07-03).groupby('NUMBER OF PERSONS INJURED').sum()"
   ]
  },
  {
   "cell_type": "code",
   "execution_count": null,
   "id": "dde5b1d6",
   "metadata": {},
   "outputs": [],
   "source": [
    "sns.barplot(data=df, x = df['CRASH DATE'],  y = df['NUMBER OF PERSONS INJURED'], hue = 'BOROUGH')\n",
    "plt.show "
   ]
  },
  {
   "cell_type": "code",
   "execution_count": null,
   "id": "85544a56",
   "metadata": {},
   "outputs": [],
   "source": []
  }
 ],
 "metadata": {
  "kernelspec": {
   "display_name": "Python 3 (ipykernel)",
   "language": "python",
   "name": "python3"
  },
  "language_info": {
   "codemirror_mode": {
    "name": "ipython",
    "version": 3
   },
   "file_extension": ".py",
   "mimetype": "text/x-python",
   "name": "python",
   "nbconvert_exporter": "python",
   "pygments_lexer": "ipython3",
   "version": "3.11.4"
  }
 },
 "nbformat": 4,
 "nbformat_minor": 5
}
