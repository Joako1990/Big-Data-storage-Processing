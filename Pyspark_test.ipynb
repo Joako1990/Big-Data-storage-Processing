{
 "cells": [
  {
   "cell_type": "code",
   "execution_count": 1,
   "id": "bbdeec55",
   "metadata": {},
   "outputs": [
    {
     "name": "stderr",
     "output_type": "stream",
     "text": [
      "2024-04-10 15:54:18.761992: I external/local_tsl/tsl/cuda/cudart_stub.cc:32] Could not find cuda drivers on your machine, GPU will not be used.\n",
      "2024-04-10 15:54:18.776299: I external/local_tsl/tsl/cuda/cudart_stub.cc:32] Could not find cuda drivers on your machine, GPU will not be used.\n",
      "2024-04-10 15:54:19.065303: I tensorflow/core/platform/cpu_feature_guard.cc:210] This TensorFlow binary is optimized to use available CPU instructions in performance-critical operations.\n",
      "To enable the following instructions: AVX2, in other operations, rebuild TensorFlow with the appropriate compiler flags.\n",
      "2024-04-10 15:54:21.916481: W tensorflow/compiler/tf2tensorrt/utils/py_utils.cc:38] TF-TRT Warning: Could not find TensorRT\n"
     ]
    }
   ],
   "source": [
    "# Import libraries\n",
    "\n",
    "import os\n",
    "import pyspark\n",
    "import re\n",
    "from operator import add\n",
    "from pyspark.sql.types import *\n",
    "from pyspark.sql import functions \n",
    "from pyspark.sql import SparkSession\n",
    "from pyspark.sql.functions import col, when, concat, isnull, mode, isnan, count, lower, upper, sum, first, regexp_replace, concat_ws, year, hour, minute, month, to_date, to_timestamp\n",
    "from pyspark.sql.window import Window\n",
    "import pyspark.sql.functions as F\n",
    "import pandas as pd\n",
    "import numpy as np\n",
    "from numpy import mean\n",
    "import seaborn as sns\n",
    "import matplotlib.pyplot as plt\n",
    "from sklearn import preprocessing\n",
    "from sklearn.preprocessing import LabelEncoder\n",
    "from sklearn.preprocessing import MinMaxScaler\n",
    "import tensorflow as tf\n",
    "import plotly.express as px\n",
    "from tensorflow.keras.models import Sequential\n",
    "from tensorflow.keras.layers import Dense\n",
    "from tensorflow.keras.layers import LSTM\n",
    "from tensorflow.keras.layers import Dropout\n",
    "import warnings\n",
    "warnings.filterwarnings('ignore')"
   ]
  },
  {
   "cell_type": "markdown",
   "id": "2880cfb6",
   "metadata": {},
   "source": [
    "## HADOOP directory file reading"
   ]
  },
  {
   "cell_type": "code",
   "execution_count": 2,
   "id": "eab32a7e",
   "metadata": {
    "scrolled": false
   },
   "outputs": [
    {
     "name": "stderr",
     "output_type": "stream",
     "text": [
      "                                                                                \r"
     ]
    }
   ],
   "source": [
    "df = spark.read.format(\"csv\").option(\"header\",\"true\").load('/user1/Motor_Vehicle_Collisions_-_Crashes.csv')"
   ]
  },
  {
   "cell_type": "code",
   "execution_count": 3,
   "id": "3ce8a051",
   "metadata": {},
   "outputs": [
    {
     "name": "stderr",
     "output_type": "stream",
     "text": [
      "24/04/10 15:54:48 WARN package: Truncated the string representation of a plan since it was too large. This behavior can be adjusted by setting 'spark.sql.debug.maxToStringFields'.\n",
      "                                                                                \r"
     ]
    },
    {
     "name": "stdout",
     "output_type": "stream",
     "text": [
      "+----------+----------+--------+--------+---------+----------+--------------------+--------------------+-----------------+--------------------+-------------------------+------------------------+-----------------------------+----------------------------+-------------------------+------------------------+--------------------------+-------------------------+-----------------------------+-----------------------------+-----------------------------+-----------------------------+-----------------------------+------------+-------------------+-------------------+-------------------+-------------------+-------------------+\n",
      "|CRASH DATE|CRASH TIME| BOROUGH|ZIP CODE| LATITUDE| LONGITUDE|            LOCATION|      ON STREET NAME|CROSS STREET NAME|     OFF STREET NAME|NUMBER OF PERSONS INJURED|NUMBER OF PERSONS KILLED|NUMBER OF PEDESTRIANS INJURED|NUMBER OF PEDESTRIANS KILLED|NUMBER OF CYCLIST INJURED|NUMBER OF CYCLIST KILLED|NUMBER OF MOTORIST INJURED|NUMBER OF MOTORIST KILLED|CONTRIBUTING FACTOR VEHICLE 1|CONTRIBUTING FACTOR VEHICLE 2|CONTRIBUTING FACTOR VEHICLE 3|CONTRIBUTING FACTOR VEHICLE 4|CONTRIBUTING FACTOR VEHICLE 5|COLLISION_ID|VEHICLE TYPE CODE 1|VEHICLE TYPE CODE 2|VEHICLE TYPE CODE 3|VEHICLE TYPE CODE 4|VEHICLE TYPE CODE 5|\n",
      "+----------+----------+--------+--------+---------+----------+--------------------+--------------------+-----------------+--------------------+-------------------------+------------------------+-----------------------------+----------------------------+-------------------------+------------------------+--------------------------+-------------------------+-----------------------------+-----------------------------+-----------------------------+-----------------------------+-----------------------------+------------+-------------------+-------------------+-------------------+-------------------+-------------------+\n",
      "|09/11/2021|      2:39|    null|    null|     null|      null|                null|WHITESTONE EXPRES...|        20 AVENUE|                null|                        2|                       0|                            0|                           0|                        0|                       0|                         2|                        0|         Aggressive Drivin...|                  Unspecified|                         null|                         null|                         null|     4455765|              Sedan|              Sedan|               null|               null|               null|\n",
      "|03/26/2022|     11:45|    null|    null|     null|      null|                null|QUEENSBORO BRIDGE...|             null|                null|                        1|                       0|                            0|                           0|                        0|                       0|                         1|                        0|            Pavement Slippery|                         null|                         null|                         null|                         null|     4513547|              Sedan|               null|               null|               null|               null|\n",
      "|06/29/2022|      6:55|    null|    null|     null|      null|                null|  THROGS NECK BRIDGE|             null|                null|                        0|                       0|                            0|                           0|                        0|                       0|                         0|                        0|         Following Too Clo...|                  Unspecified|                         null|                         null|                         null|     4541903|              Sedan|      Pick-up Truck|               null|               null|               null|\n",
      "|09/11/2021|      9:35|BROOKLYN|   11208|40.667202|  -73.8665|(40.667202, -73.8...|                null|             null|1211      LORING ...|                        0|                       0|                            0|                           0|                        0|                       0|                         0|                        0|                  Unspecified|                         null|                         null|                         null|                         null|     4456314|              Sedan|               null|               null|               null|               null|\n",
      "|12/14/2021|      8:13|BROOKLYN|   11233|40.683304|-73.917274|(40.683304, -73.9...|     SARATOGA AVENUE|   DECATUR STREET|                null|                        0|                       0|                            0|                           0|                        0|                       0|                         0|                        0|                         null|                         null|                         null|                         null|                         null|     4486609|               null|               null|               null|               null|               null|\n",
      "+----------+----------+--------+--------+---------+----------+--------------------+--------------------+-----------------+--------------------+-------------------------+------------------------+-----------------------------+----------------------------+-------------------------+------------------------+--------------------------+-------------------------+-----------------------------+-----------------------------+-----------------------------+-----------------------------+-----------------------------+------------+-------------------+-------------------+-------------------+-------------------+-------------------+\n",
      "only showing top 5 rows\n",
      "\n"
     ]
    }
   ],
   "source": [
    "df.show(5)"
   ]
  },
  {
   "cell_type": "code",
   "execution_count": 4,
   "id": "5711edd7",
   "metadata": {},
   "outputs": [
    {
     "name": "stdout",
     "output_type": "stream",
     "text": [
      "root\n",
      " |-- CRASH DATE: string (nullable = true)\n",
      " |-- CRASH TIME: string (nullable = true)\n",
      " |-- BOROUGH: string (nullable = true)\n",
      " |-- ZIP CODE: string (nullable = true)\n",
      " |-- LATITUDE: string (nullable = true)\n",
      " |-- LONGITUDE: string (nullable = true)\n",
      " |-- LOCATION: string (nullable = true)\n",
      " |-- ON STREET NAME: string (nullable = true)\n",
      " |-- CROSS STREET NAME: string (nullable = true)\n",
      " |-- OFF STREET NAME: string (nullable = true)\n",
      " |-- NUMBER OF PERSONS INJURED: string (nullable = true)\n",
      " |-- NUMBER OF PERSONS KILLED: string (nullable = true)\n",
      " |-- NUMBER OF PEDESTRIANS INJURED: string (nullable = true)\n",
      " |-- NUMBER OF PEDESTRIANS KILLED: string (nullable = true)\n",
      " |-- NUMBER OF CYCLIST INJURED: string (nullable = true)\n",
      " |-- NUMBER OF CYCLIST KILLED: string (nullable = true)\n",
      " |-- NUMBER OF MOTORIST INJURED: string (nullable = true)\n",
      " |-- NUMBER OF MOTORIST KILLED: string (nullable = true)\n",
      " |-- CONTRIBUTING FACTOR VEHICLE 1: string (nullable = true)\n",
      " |-- CONTRIBUTING FACTOR VEHICLE 2: string (nullable = true)\n",
      " |-- CONTRIBUTING FACTOR VEHICLE 3: string (nullable = true)\n",
      " |-- CONTRIBUTING FACTOR VEHICLE 4: string (nullable = true)\n",
      " |-- CONTRIBUTING FACTOR VEHICLE 5: string (nullable = true)\n",
      " |-- COLLISION_ID: string (nullable = true)\n",
      " |-- VEHICLE TYPE CODE 1: string (nullable = true)\n",
      " |-- VEHICLE TYPE CODE 2: string (nullable = true)\n",
      " |-- VEHICLE TYPE CODE 3: string (nullable = true)\n",
      " |-- VEHICLE TYPE CODE 4: string (nullable = true)\n",
      " |-- VEHICLE TYPE CODE 5: string (nullable = true)\n",
      "\n"
     ]
    }
   ],
   "source": [
    "df.printSchema()"
   ]
  },
  {
   "cell_type": "markdown",
   "id": "453d643f",
   "metadata": {},
   "source": [
    "## Preprocessing"
   ]
  },
  {
   "cell_type": "markdown",
   "id": "2a33f347",
   "metadata": {},
   "source": [
    "#### Data Cleaning"
   ]
  },
  {
   "cell_type": "code",
   "execution_count": 5,
   "id": "72dfd48b",
   "metadata": {},
   "outputs": [
    {
     "name": "stderr",
     "output_type": "stream",
     "text": [
      "                                                                                \r"
     ]
    },
    {
     "name": "stdout",
     "output_type": "stream",
     "text": [
      "+-------------------+----------+----------+-----------+------+---------+--------+----------+-----------+--------------------+-------------------------+------------------------+-----------------------------+--------------------+\n",
      "|               DATE|CRASH DATE|CRASH TIME|TIME OF DAY|SEASON|  BOROUGH|ZIP CODE|  LATITUDE|  LONGITUDE|      ON STREET NAME|NUMBER OF PERSONS INJURED|NUMBER OF PERSONS KILLED|CONTRIBUTING FACTOR VEHICLE 1| VEHICLE TYPE CODE 1|\n",
      "+-------------------+----------+----------+-----------+------+---------+--------+----------+-----------+--------------------+-------------------------+------------------------+-----------------------------+--------------------+\n",
      "|2012-12-01 00:00:00|2012-12-01|      0:00|SMALL HOURS|WINTER|MANHATTAN|   10013|40.7233076|  -74.00298|BROOME STREET    ...|                        0|                       0|         AGGRESSIVE DRIVIN...|               OTHER|\n",
      "|2012-12-01 00:05:00|2012-12-01|      0:05|SMALL HOURS|WINTER|MANHATTAN|   10036|40.7572323|-73.9897922|WEST 42 STREET   ...|                        0|                       0|                  UNSPECIFIED|                 BUS|\n",
      "|2012-12-01 00:10:00|2012-12-01|      0:10|SMALL HOURS|WINTER| BROOKLYN|   11238|40.6833327|-73.9561132|FRANKLIN AVENUE  ...|                        0|                       0|                  UNSPECIFIED|SPORT UTILITY / S...|\n",
      "|2012-12-01 00:15:00|2012-12-01|      0:15|SMALL HOURS|WINTER|MANHATTAN|   10010| 40.742089|-73.9849769|EAST 26 STREET   ...|                        0|                       0|                  UNSPECIFIED|SMALL COM VEH(4 T...|\n",
      "|2012-12-01 00:15:00|2012-12-01|      0:15|SMALL HOURS|WINTER|MANHATTAN|   10002|40.7183032|-73.9873956|DELANCEY STREET  ...|                        0|                       0|              FATIGUED/DROWSY|SPORT UTILITY / S...|\n",
      "+-------------------+----------+----------+-----------+------+---------+--------+----------+-----------+--------------------+-------------------------+------------------------+-----------------------------+--------------------+\n",
      "only showing top 5 rows\n",
      "\n",
      "root\n",
      " |-- DATE: timestamp (nullable = true)\n",
      " |-- CRASH DATE: date (nullable = true)\n",
      " |-- CRASH TIME: string (nullable = true)\n",
      " |-- TIME OF DAY: string (nullable = false)\n",
      " |-- SEASON: string (nullable = false)\n",
      " |-- BOROUGH: string (nullable = true)\n",
      " |-- ZIP CODE: integer (nullable = true)\n",
      " |-- LATITUDE: string (nullable = true)\n",
      " |-- LONGITUDE: string (nullable = true)\n",
      " |-- ON STREET NAME: string (nullable = true)\n",
      " |-- NUMBER OF PERSONS INJURED: integer (nullable = true)\n",
      " |-- NUMBER OF PERSONS KILLED: integer (nullable = true)\n",
      " |-- CONTRIBUTING FACTOR VEHICLE 1: string (nullable = true)\n",
      " |-- VEHICLE TYPE CODE 1: string (nullable = true)\n",
      "\n"
     ]
    }
   ],
   "source": [
    "# Drop irrelevant columns\n",
    "\n",
    "df =  df.drop('CROSS STREET NAME', 'OFF STREET NAME', 'NUMBER OF PEDESTRIANS INJURED', 'NUMBER OF CYCLIST INJURED',\n",
    "            'NUMBER OF CYCLIST KILLED', 'NUMBER OF MOTORIST INJURED', 'NUMBER OF MOTORIST KILLED',\n",
    "            'CONTRIBUTING FACTOR VEHICLE 2', 'CONTRIBUTING FACTOR VEHICLE 3', 'CONTRIBUTING FACTOR VEHICLE 4',\n",
    "            'CONTRIBUTING FACTOR VEHICLE 5', 'COLLISION_ID', 'VEHICLE TYPE CODE 2', 'VEHICLE TYPE CODE 3',\n",
    "            'VEHICLE TYPE CODE 4', 'VEHICLE TYPE CODE 5', 'NUMBER OF PEDESTRIANS KILLED')\n",
    "\n",
    "df = df.na.drop(how='any')\n",
    "\n",
    "#df1.select([count(when(\n",
    "#         isnan(col(each_col)) | \\\n",
    "#         (col(each_col) == \"\") | \\\n",
    "#         isnull(col(each_col)) | \\\n",
    "#         (lower(col(each_col)) == \"null\"), 1 \\\n",
    "#     )).alias(f\"{each_col}\") for each_col in df.columns]).show()\n",
    "\n",
    "# CHANGE CRASH DATE FORMAT\n",
    "\n",
    "df = df.withColumn('CRASH DATE', regexp_replace(df['CRASH DATE'],\"\\\\/\" , \"-\"))\n",
    "\n",
    "# Create new date column with date & time\n",
    "\n",
    "df = df.withColumn('DATE', concat_ws(' ', df['CRASH DATE'], df['CRASH TIME']))\n",
    "\n",
    "# DATE to timestamp\n",
    "\n",
    "df = df.withColumn('DATE', to_timestamp(df['DATE'], 'MM-dd-yyyy H:mm'))\n",
    "\n",
    "df = df.withColumn('CRASH DATE', to_date(df['CRASH DATE'], 'MM-dd-yyyy'))\n",
    "\n",
    "# Move DATE column to pisition 0\n",
    "\n",
    "df = df.select('DATE', *[column for column in df.columns if column != 'DATE'])\n",
    "\n",
    "# Sort by date\n",
    "\n",
    "df = df.orderBy('DATE', 'CRASH TIME')\n",
    "\n",
    "#Filter out 2012 December records\n",
    "\n",
    "df = df.filter(~((col('DATE').substr(1, 4) == '2012') & (col('DATE').substr(6, 2) != '12')))\n",
    "\n",
    "df = df.withColumn(\n",
    "    'ZIP CODE', df['ZIP CODE'].cast('integer')).withColumn(\n",
    "    'NUMBER OF PERSONS INJURED', \n",
    "    df['NUMBER OF PERSONS INJURED'].cast('integer')).withColumn(\n",
    "    'NUMBER OF PERSONS KILLED', df['NUMBER OF PERSONS KILLED'].cast('integer'))\n",
    "\n",
    "# Standarize categorical columns\n",
    "\n",
    "df = df.withColumn(\n",
    "    'CONTRIBUTING FACTOR VEHICLE 1', \n",
    "    upper(col('CONTRIBUTING FACTOR VEHICLE 1'))).withColumn(\n",
    "    'BOROUGH', \n",
    "    upper(col('BOROUGH'))).withColumn(\n",
    "    'ON STREET NAME', upper(col('ON STREET NAME'))).withColumn(\n",
    "    'VEHICLE TYPE CODE 1', upper(col('VEHICLE TYPE CODE 1')))\n",
    "\n",
    "# Create functions for time of day and season\n",
    "def time_of_day(hour, minute):\n",
    "    return when((hour == 0) & (minute >= 0) | ((hour >= 1) & (hour <= 6)), 'SMALL HOURS') \\\n",
    "        .when((hour > 6) & (hour <= 12), 'MORNING') \\\n",
    "        .when((hour > 12) & (hour <= 18), 'AFTERNOON') \\\n",
    "        .otherwise('EVENING')\n",
    "\n",
    "def time_of_year(month):\n",
    "    return when((month >= 3) & (month <= 5), 'SPRING') \\\n",
    "        .when((month >= 6) & (month <= 8), 'SUMMER') \\\n",
    "        .when((month >= 9) & (month <= 11), 'AUTUMN') \\\n",
    "        .otherwise('WINTER')\n",
    "\n",
    "#Apply functions to create new columns\n",
    "\n",
    "df = df.withColumn('TIME OF DAY', \n",
    "              time_of_day(hour(df['CRASH TIME']),minute(df['CRASH TIME']))\n",
    "             ).withColumn('SEASON', time_of_year(month(df['CRASH DATE'])))\n",
    "\n",
    "\n",
    "# # Organize columns\n",
    "\n",
    "df = df.select('DATE', 'CRASH DATE', 'CRASH TIME', 'TIME OF DAY', 'SEASON',\n",
    "               'BOROUGH', 'ZIP CODE', 'LATITUDE', 'LONGITUDE', 'ON STREET NAME', \n",
    "               'NUMBER OF PERSONS INJURED', 'NUMBER OF PERSONS KILLED',\n",
    "               'CONTRIBUTING FACTOR VEHICLE 1', 'VEHICLE TYPE CODE 1')\n",
    "\n",
    "print('Count of rows: {0}'.format(df.count()), '\\n')\n",
    "\n",
    "df.show(5)\n",
    "df.printSchema()"
   ]
  },
  {
   "cell_type": "markdown",
   "id": "ecae2d29",
   "metadata": {},
   "source": [
    "### DataFrame reduction by Time of Day"
   ]
  },
  {
   "cell_type": "code",
   "execution_count": 6,
   "id": "236bd64d",
   "metadata": {},
   "outputs": [],
   "source": [
    "df_time_of_day = df"
   ]
  },
  {
   "cell_type": "code",
   "execution_count": 7,
   "id": "24539533",
   "metadata": {
    "scrolled": false
   },
   "outputs": [
    {
     "name": "stderr",
     "output_type": "stream",
     "text": [
      "                                                                                \r"
     ]
    },
    {
     "name": "stdout",
     "output_type": "stream",
     "text": [
      "+----------+-----------+-----------------+---------------+--------------+----------+-----------+------------+--------------------+-----------+-----------------+------+\n",
      "|      DATE|TIME OF DAY|NUMBER OF CRASHES|PERSONS INJURED|PERSONS KILLED|  LATITUDE|  LONGITUDE|PEAK BOROUGH|         PEAK STREET|MAIN FACTOR|MAIN VEHICLE TYPE|SEASON|\n",
      "+----------+-----------+-----------------+---------------+--------------+----------+-----------+------------+--------------------+-----------+-----------------+------+\n",
      "|2012-12-01|SMALL HOURS|               74|             22|             0|40.7569869|-73.7375192|   MANHATTAN|NORTHERN BOULEVAR...|UNSPECIFIED|PASSENGER VEHICLE|WINTER|\n",
      "|2012-12-01|    MORNING|              100|             20|             0|40.8261757|-73.9508609|    BROOKLYN|FLATBUSH AVENUE  ...|UNSPECIFIED|PASSENGER VEHICLE|WINTER|\n",
      "|2012-12-01|  AFTERNOON|              139|             32|             0|40.6673324|-73.8631562|    BROOKLYN|FOREST AVENUE    ...|UNSPECIFIED|PASSENGER VEHICLE|WINTER|\n",
      "|2012-12-01|    EVENING|               70|             26|             0| 40.633111|-73.9721609|   MANHATTAN|EAST HOUSTON STRE...|UNSPECIFIED|PASSENGER VEHICLE|WINTER|\n",
      "|2012-12-02|SMALL HOURS|               75|             26|             0| 40.759626|-73.9954735|   MANHATTAN|EASTERN PARKWAY  ...|UNSPECIFIED|PASSENGER VEHICLE|WINTER|\n",
      "+----------+-----------+-----------------+---------------+--------------+----------+-----------+------------+--------------------+-----------+-----------------+------+\n",
      "only showing top 5 rows\n",
      "\n"
     ]
    }
   ],
   "source": [
    "# Group the data by CRASH DATE and TIME OF DAY\n",
    "grouped_time_of_day = df_time_of_day.groupBy(\"CRASH DATE\", \"TIME OF DAY\")\n",
    "\n",
    "# Aggregate the grouped data\n",
    "counts_time_of_day = grouped_time_of_day.agg(\n",
    "    count(\"CRASH TIME\").alias(\"NUMBER OF CRASHES\"),\n",
    "    sum(\"NUMBER OF PERSONS INJURED\").alias(\"PERSONS INJURED\"),\n",
    "    sum(\"NUMBER OF PERSONS KILLED\").alias(\"PERSONS KILLED\"),\n",
    "    mode(\"LATITUDE\").alias(\"LATITUDE\"),\n",
    "    mode(\"LONGITUDE\").alias(\"LONGITUDE\"),\n",
    "    mode(\"BOROUGH\").alias(\"BOROUGH\"),\n",
    "    mode(\"ON STREET NAME\").alias(\"ON STREET NAME\"),\n",
    "    mode(\"CONTRIBUTING FACTOR VEHICLE 1\").alias(\"CONTRIBUTING FACTOR VEHICLE 1\"),\n",
    "    mode(\"VEHICLE TYPE CODE 1\").alias(\"VEHICLE TYPE CODE 1\"),\n",
    "    mode(\"SEASON\").alias(\"SEASON\")\n",
    ")\n",
    "\n",
    "counts_time_of_day = counts_time_of_day.withColumnRenamed(\"CRASH DATE\", \"DATE\") \\\n",
    "                   .withColumnRenamed(\"BOROUGH\", \"PEAK BOROUGH\") \\\n",
    "                   .withColumnRenamed(\"ON STREET NAME\", \"PEAK STREET\") \\\n",
    "                   .withColumnRenamed(\"CONTRIBUTING FACTOR VEHICLE 1\", \"MAIN FACTOR\") \\\n",
    "                   .withColumnRenamed(\"VEHICLE TYPE CODE 1\", \"MAIN VEHICLE TYPE\")\n",
    "\n",
    "# Convert TIME OF DAY column to categorical and sort accordingly\n",
    "time_of_day_org = ['SMALL HOURS', 'MORNING', 'AFTERNOON', 'EVENING']\n",
    "counts_time_of_day = counts_time_of_day.withColumn(\"TIME OF DAY\", F.when(col(\"TIME OF DAY\").isNull(), \"UNKNOWN\").otherwise(col(\"TIME OF DAY\")))\n",
    "counts_time_of_day = counts_time_of_day.withColumn(\"TIME OF DAY\", F.when(col(\"TIME OF DAY\").isin(time_of_day_org), col(\"TIME OF DAY\")).otherwise(\"OTHER\"))\n",
    "counts_time_of_day = counts_time_of_day.withColumn(\"TIME OF DAY\", counts_time_of_day[\"TIME OF DAY\"].cast(\"string\"))\n",
    "\n",
    "# Sort the DataFrame by DATE and TIME OF DAY\n",
    "counts_time_of_day = counts_time_of_day.orderBy(\"DATE\", F.when(col(\"TIME OF DAY\") == \"SMALL HOURS\", 1)\n",
    "                                                               .when(col(\"TIME OF DAY\") == \"MORNING\", 2)\n",
    "                                                               .when(col(\"TIME OF DAY\") == \"AFTERNOON\", 3)\n",
    "                                                               .when(col(\"TIME OF DAY\") == \"EVENING\", 4)\n",
    "                                                               .otherwise(5))\n",
    "\n",
    "\n",
    "# Organize columns\n",
    "\n",
    "counts_time_of_day.select('DATE', 'TIME OF DAY', 'SEASON', 'NUMBER OF CRASHES',\n",
    "                          'PEAK STREET', 'PEAK BOROUGH', \n",
    "                          'LATITUDE', 'LONGITUDE','PERSONS INJURED', \n",
    "                          'PERSONS KILLED','MAIN FACTOR', \n",
    "                          'MAIN VEHICLE TYPE')\n",
    "\n",
    "\n",
    "\n",
    "# Rename df\n",
    "\n",
    "df_time_of_day = counts_time_of_day\n",
    "\n",
    "df_time_of_day.show(5)\n",
    "#print('Count of rows: {0}'.format(df_time_of_day.count()), '\\n')\n"
   ]
  },
  {
   "cell_type": "markdown",
   "id": "01c66c08",
   "metadata": {},
   "source": [
    "### DataFrame reduction by Day"
   ]
  },
  {
   "cell_type": "code",
   "execution_count": 8,
   "id": "6f4f4281",
   "metadata": {},
   "outputs": [],
   "source": [
    "df_day = df_time_of_day"
   ]
  },
  {
   "cell_type": "code",
   "execution_count": 10,
   "id": "7aaaea7b",
   "metadata": {
    "scrolled": true
   },
   "outputs": [
    {
     "name": "stderr",
     "output_type": "stream",
     "text": [
      "                                                                                \r"
     ]
    },
    {
     "name": "stdout",
     "output_type": "stream",
     "text": [
      "Count of rows: 4126 \n",
      "\n"
     ]
    },
    {
     "name": "stderr",
     "output_type": "stream",
     "text": [
      "[Stage 67:>                                                         (0 + 1) / 1]\r"
     ]
    },
    {
     "name": "stdout",
     "output_type": "stream",
     "text": [
      "+----------+-----------------+------+---------------+--------------+----------+-----------+------------+--------------------+-----------+-----------------+\n",
      "|      DATE|NUMBER OF CRASHES|SEASON|PERSONS INJURED|PERSONS KILLED|  LATITUDE|  LONGITUDE|PEAK BOROUGH|         PEAK STREET|MAIN FACTOR|MAIN VEHICLE TYPE|\n",
      "+----------+-----------------+------+---------------+--------------+----------+-----------+------------+--------------------+-----------+-----------------+\n",
      "|2012-12-01|              383|WINTER|            100|             0|40.7569869|-73.7375192|   MANHATTAN|EAST HOUSTON STRE...|UNSPECIFIED|PASSENGER VEHICLE|\n",
      "|2012-12-02|              352|WINTER|             92|             0| 40.759626|-73.9954735|   MANHATTAN|WEST 57 STREET   ...|UNSPECIFIED|PASSENGER VEHICLE|\n",
      "|2012-12-03|              471|WINTER|            111|             0|40.8416419|-73.8982589|    BROOKLYN|LINDEN BOULEVARD ...|UNSPECIFIED|PASSENGER VEHICLE|\n",
      "|2012-12-04|              464|WINTER|            135|             0|40.7612219|-74.0873984|    BROOKLYN|EAST 55 STREET   ...|UNSPECIFIED|PASSENGER VEHICLE|\n",
      "|2012-12-05|              406|WINTER|             98|             0|40.7371576|-73.8331589|   MANHATTAN|NORTHERN BOULEVAR...|UNSPECIFIED|PASSENGER VEHICLE|\n",
      "+----------+-----------------+------+---------------+--------------+----------+-----------+------------+--------------------+-----------+-----------------+\n",
      "only showing top 5 rows\n",
      "\n",
      "root\n",
      " |-- DATE: timestamp (nullable = true)\n",
      " |-- CRASH DATE: date (nullable = true)\n",
      " |-- CRASH TIME: string (nullable = true)\n",
      " |-- TIME OF DAY: string (nullable = false)\n",
      " |-- SEASON: string (nullable = false)\n",
      " |-- BOROUGH: string (nullable = true)\n",
      " |-- ZIP CODE: integer (nullable = true)\n",
      " |-- LATITUDE: string (nullable = true)\n",
      " |-- LONGITUDE: string (nullable = true)\n",
      " |-- ON STREET NAME: string (nullable = true)\n",
      " |-- NUMBER OF PERSONS INJURED: integer (nullable = true)\n",
      " |-- NUMBER OF PERSONS KILLED: integer (nullable = true)\n",
      " |-- CONTRIBUTING FACTOR VEHICLE 1: string (nullable = true)\n",
      " |-- VEHICLE TYPE CODE 1: string (nullable = true)\n",
      "\n"
     ]
    },
    {
     "name": "stderr",
     "output_type": "stream",
     "text": [
      "\r",
      "                                                                                \r"
     ]
    }
   ],
   "source": [
    "# Group the data by DATE\n",
    "\n",
    "grouped_day = df_day.groupBy(\"DATE\")\n",
    "\n",
    "# Aggregate the grouped data\n",
    "counts_day = grouped_day.agg(\n",
    "    sum(\"NUMBER OF CRASHES\").alias(\"NUMBER OF CRASHES\"),\n",
    "    mode(\"SEASON\").alias(\"SEASON\"),\n",
    "    sum(\"PERSONS INJURED\").alias(\"PERSONS INJURED\"),\n",
    "    sum(\"PERSONS KILLED\").alias(\"PERSONS KILLED\"),\n",
    "    mode(\"LATITUDE\").alias(\"LATITUDE\"),\n",
    "    mode(\"LONGITUDE\").alias(\"LONGITUDE\"),\n",
    "    mode(\"PEAK BOROUGH\").alias(\"PEAK BOROUGH\"),\n",
    "    mode(\"PEAK STREET\").alias(\"PEAK STREET\"),\n",
    "    mode(\"MAIN FACTOR\").alias(\"MAIN FACTOR\"),\n",
    "    mode(\"MAIN VEHICLE TYPE\").alias(\"MAIN VEHICLE TYPE\")\n",
    ")\n",
    "\n",
    "# Rename df\n",
    "\n",
    "df_day = counts_day\n",
    "\n",
    "print('Count of rows: {0}'.format(df_day.count()), '\\n')\n",
    "\n",
    "df_day.show(5)\n",
    "df.printSchema()"
   ]
  },
  {
   "cell_type": "markdown",
   "id": "c3e8abe5",
   "metadata": {},
   "source": [
    "## DataFrame reduction by Year"
   ]
  },
  {
   "cell_type": "code",
   "execution_count": 11,
   "id": "ef5f7081",
   "metadata": {},
   "outputs": [],
   "source": [
    "df_year = df_day"
   ]
  },
  {
   "cell_type": "code",
   "execution_count": 12,
   "id": "9f0a042e",
   "metadata": {},
   "outputs": [
    {
     "name": "stderr",
     "output_type": "stream",
     "text": [
      "                                                                                \r"
     ]
    },
    {
     "name": "stdout",
     "output_type": "stream",
     "text": [
      "Count of rows: 13 \n",
      "\n"
     ]
    },
    {
     "name": "stderr",
     "output_type": "stream",
     "text": [
      "[Stage 96:>                                                         (0 + 1) / 1]\r"
     ]
    },
    {
     "name": "stdout",
     "output_type": "stream",
     "text": [
      "+----+-----------------+------+---------------+--------------+----------+-----------+------------+--------------------+-----------+-----------------+\n",
      "|DATE|NUMBER OF CRASHES|SEASON|PERSONS INJURED|PERSONS KILLED|  LATITUDE|  LONGITUDE|PEAK BOROUGH|         PEAK STREET|MAIN FACTOR|MAIN VEHICLE TYPE|\n",
      "+----+-----------------+------+---------------+--------------+----------+-----------+------------+--------------------+-----------+-----------------+\n",
      "|2018|            92574|SPRING|          27746|           112|   40.7171|  -73.75764|      QUEENS|LINDEN BOULEVARD ...|UNSPECIFIED|            SEDAN|\n",
      "|2015|           159799|SPRING|          37327|           177|40.7184302|-73.9928041|    BROOKLYN|LINDEN BOULEVARD ...|UNSPECIFIED|PASSENGER VEHICLE|\n",
      "|2023|            38260|SPRING|          24962|           136|  40.65945| -74.000534|      QUEENS| WOODHAVEN BOULEVARD|UNSPECIFIED|            SEDAN|\n",
      "|2022|            39439|SPRING|          22717|           128|         0|          0|      QUEENS| WOODHAVEN BOULEVARD|UNSPECIFIED|            SEDAN|\n",
      "|2013|           154769|SPRING|          41888|           212|40.7184302|-73.9928041|    BROOKLYN|LINDEN BOULEVARD ...|UNSPECIFIED|PASSENGER VEHICLE|\n",
      "|2014|           153280|SPRING|          38106|           181|40.7184302|-73.9871041|    BROOKLYN|LINDEN BOULEVARD ...|UNSPECIFIED|PASSENGER VEHICLE|\n",
      "|2019|            84121|SPRING|          27439|           117| 40.666386|  -73.75764|      QUEENS|NORTH CONDUIT AVE...|UNSPECIFIED|            SEDAN|\n",
      "|2020|            43192|SPRING|          19229|           130|   40.7171|  -73.93904|      QUEENS|LINDEN BOULEVARD ...|UNSPECIFIED|            SEDAN|\n",
      "|2012|            13101|WINTER|           3547|            22|40.7371576|-73.8774144|    BROOKLYN|LINDEN BOULEVARD ...|UNSPECIFIED|PASSENGER VEHICLE|\n",
      "|2016|            96964|SPRING|          26261|            98|   40.7171| -74.000534|      QUEENS|LINDEN BOULEVARD ...|UNSPECIFIED|            SEDAN|\n",
      "|2024|             7513|WINTER|           4783|            34|  40.74668|   -73.9246|      QUEENS| WOODHAVEN BOULEVARD|UNSPECIFIED|            SEDAN|\n",
      "|2017|            88508|SPRING|          26088|           108|   40.7171|  -73.75764|      QUEENS|NORTH CONDUIT AVE...|UNSPECIFIED|            SEDAN|\n",
      "|2021|            41434|SPRING|          22692|           113|         0|          0|      QUEENS| WOODHAVEN BOULEVARD|UNSPECIFIED|            SEDAN|\n",
      "+----+-----------------+------+---------------+--------------+----------+-----------+------------+--------------------+-----------+-----------------+\n",
      "\n",
      "root\n",
      " |-- DATE: integer (nullable = true)\n",
      " |-- NUMBER OF CRASHES: long (nullable = true)\n",
      " |-- SEASON: string (nullable = true)\n",
      " |-- PERSONS INJURED: long (nullable = true)\n",
      " |-- PERSONS KILLED: long (nullable = true)\n",
      " |-- LATITUDE: string (nullable = true)\n",
      " |-- LONGITUDE: string (nullable = true)\n",
      " |-- PEAK BOROUGH: string (nullable = true)\n",
      " |-- PEAK STREET: string (nullable = true)\n",
      " |-- MAIN FACTOR: string (nullable = true)\n",
      " |-- MAIN VEHICLE TYPE: string (nullable = true)\n",
      "\n"
     ]
    },
    {
     "name": "stderr",
     "output_type": "stream",
     "text": [
      "\r",
      "                                                                                \r"
     ]
    }
   ],
   "source": [
    "# Group the data by DATE\n",
    "\n",
    "grouped_year = df_year.withColumn(\"DATE\", year(\"DATE\")).groupBy(\"DATE\")\n",
    "# df.withColumn('TIME OF DAY', \n",
    "#               time_of_day(hour(df['CRASH TIME']),\n",
    "\n",
    "# Aggregate the grouped data\n",
    "counts_year = grouped_year.agg(\n",
    "    sum(\"NUMBER OF CRASHES\").alias(\"NUMBER OF CRASHES\"),\n",
    "    mode(\"SEASON\").alias(\"SEASON\"),\n",
    "    sum(\"PERSONS INJURED\").alias(\"PERSONS INJURED\"),\n",
    "    sum(\"PERSONS KILLED\").alias(\"PERSONS KILLED\"),\n",
    "    mode(\"LATITUDE\").alias(\"LATITUDE\"),\n",
    "    mode(\"LONGITUDE\").alias(\"LONGITUDE\"),\n",
    "    mode(\"PEAK BOROUGH\").alias(\"PEAK BOROUGH\"),\n",
    "    mode(\"PEAK STREET\").alias(\"PEAK STREET\"),\n",
    "    mode(\"MAIN FACTOR\").alias(\"MAIN FACTOR\"),\n",
    "    mode(\"MAIN VEHICLE TYPE\").alias(\"MAIN VEHICLE TYPE\")\n",
    ")\n",
    "\n",
    "# Sort by DATE\n",
    "\n",
    "counts_year.orderBy('DATE')\n",
    "\n",
    "# Rename df\n",
    "\n",
    "df_year = counts_year\n",
    "\n",
    "print('Count of rows: {0}'.format(df_year.count()), '\\n')\n",
    "\n",
    "df_year.show()\n",
    "df_year.printSchema()"
   ]
  },
  {
   "cell_type": "markdown",
   "id": "4159bdfe",
   "metadata": {},
   "source": [
    "## HADDOP directory writing csv files \n",
    "* Can be created (written) only once, after that over function must be used"
   ]
  },
  {
   "cell_type": "code",
   "execution_count": 19,
   "id": "68fec330",
   "metadata": {},
   "outputs": [],
   "source": [
    "# df_time_of_day.write.option(\"header\", True).csv('/user1/df_time_of_day')\n",
    "# df_day.write.option(\"header\", True).csv('/user1/df_day')\n",
    "# df_year.write.options(header='True', delimiter=',').csv('/user1/df_year')"
   ]
  },
  {
   "cell_type": "code",
   "execution_count": null,
   "id": "97f71c8f",
   "metadata": {},
   "outputs": [],
   "source": []
  }
 ],
 "metadata": {
  "kernelspec": {
   "display_name": "Python 3 (ipykernel)",
   "language": "python",
   "name": "python3"
  },
  "language_info": {
   "codemirror_mode": {
    "name": "ipython",
    "version": 3
   },
   "file_extension": ".py",
   "mimetype": "text/x-python",
   "name": "python",
   "nbconvert_exporter": "python",
   "pygments_lexer": "ipython3",
   "version": "3.10.12"
  }
 },
 "nbformat": 4,
 "nbformat_minor": 5
}
